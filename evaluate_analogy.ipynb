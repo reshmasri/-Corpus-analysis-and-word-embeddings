{
 "cells": [
  {
   "cell_type": "code",
   "execution_count": 1,
   "metadata": {},
   "outputs": [],
   "source": [
    "import logging\n",
    "from six import iteritems\n",
    "from web.datasets.analogy import *\n",
    "from web.embeddings import *\n",
    "from web.evaluate import *"
   ]
  },
  {
   "cell_type": "code",
   "execution_count": 2,
   "metadata": {},
   "outputs": [],
   "source": [
    "# Configure logging\n",
    "logging.basicConfig(format='%(asctime)s %(levelname)s:%(message)s', level=logging.DEBUG, datefmt='%I:%M:%S')"
   ]
  },
  {
   "cell_type": "code",
   "execution_count": 3,
   "metadata": {},
   "outputs": [
    {
     "name": "stdout",
     "output_type": "stream",
     "text": [
      "File already downloaded, skipping\n"
     ]
    }
   ],
   "source": [
    "w_glove = fetch_GloVe(corpus=\"wiki-6B\", dim=300)"
   ]
  },
  {
   "cell_type": "code",
   "execution_count": 7,
   "metadata": {},
   "outputs": [
    {
     "name": "stdout",
     "output_type": "stream",
     "text": [
      "File already downloaded, skipping\n"
     ]
    }
   ],
   "source": [
    "t_glove = fetch_GloVe(corpus=\"twitter-27B\", dim=100)"
   ]
  },
  {
   "cell_type": "code",
   "execution_count": 2,
   "metadata": {},
   "outputs": [
    {
     "name": "stdout",
     "output_type": "stream",
     "text": [
      "File already downloaded, skipping\n"
     ]
    },
    {
     "name": "stderr",
     "output_type": "stream",
     "text": [
      "We ignored line number 140648 - following word is duplicated in file:\n",
      "����������������������������������������������������������������������������������������������������������������������������������������������������������������������������������������������������������������������������������������������������������������������������������������������������������������������������������������������\n",
      "\n"
     ]
    }
   ],
   "source": [
    "cc_glove = fetch_GloVe(corpus=\"common-crawl-840B\", dim=300)"
   ]
  },
  {
   "cell_type": "code",
   "execution_count": 9,
   "metadata": {},
   "outputs": [
    {
     "name": "stdout",
     "output_type": "stream",
     "text": [
      "File already downloaded, skipping\n"
     ]
    },
    {
     "name": "stderr",
     "output_type": "stream",
     "text": [
      "08:02:53 INFO:loading projection weights from C:\\Users\\reshm/web_data\\embeddings\\GoogleNews-vectors-negative300.bin.gz\n",
      "08:02:53 INFO:Loading #3000000 words with 300 dim\n"
     ]
    }
   ],
   "source": [
    "# Fetches SG (skip-gram with negative sampling) embeddings trained on GoogleNews dataset published on word2vec website\n",
    "SG_googleNews = fetch_SG_GoogleNews()"
   ]
  },
  {
   "cell_type": "code",
   "execution_count": 10,
   "metadata": {},
   "outputs": [
    {
     "name": "stdout",
     "output_type": "stream",
     "text": [
      "File already downloaded, skipping\n"
     ]
    },
    {
     "name": "stderr",
     "output_type": "stream",
     "text": [
      "08:04:35 INFO:loading projection weights from C:\\Users\\reshm/web_data\\embeddings\\lexvec.commoncrawl.300d.W%2BC.pos.vectors.gz\n"
     ]
    }
   ],
   "source": [
    "LexVec = fetch_LexVec(\"commoncrawl-W+C\")"
   ]
  },
  {
   "cell_type": "code",
   "execution_count": 11,
   "metadata": {},
   "outputs": [
    {
     "name": "stdout",
     "output_type": "stream",
     "text": [
      "File already downloaded, skipping\n"
     ]
    },
    {
     "name": "stderr",
     "output_type": "stream",
     "text": [
      "08:17:01 INFO:loading projection weights from C:\\Users\\reshm/web_data\\embeddings\\lexvec.commoncrawl.ngramsubwords.300d.W.pos.vectors.gz\n"
     ]
    }
   ],
   "source": [
    "CC_LexVec = fetch_LexVec(\"commoncrawl-ngramsubwords-W\")"
   ]
  },
  {
   "cell_type": "code",
   "execution_count": 13,
   "metadata": {},
   "outputs": [
    {
     "name": "stdout",
     "output_type": "stream",
     "text": [
      "File already downloaded, skipping\n"
     ]
    },
    {
     "name": "stderr",
     "output_type": "stream",
     "text": [
      "08:29:43 INFO:loading projection weights from C:\\Users\\reshm/web_data\\embeddings\\pdc/pdc300.txt.bz2\n"
     ]
    }
   ],
   "source": [
    "PDC = fetch_PDC()"
   ]
  },
  {
   "cell_type": "code",
   "execution_count": 14,
   "metadata": {},
   "outputs": [
    {
     "name": "stdout",
     "output_type": "stream",
     "text": [
      "File already downloaded, skipping\n"
     ]
    },
    {
     "name": "stderr",
     "output_type": "stream",
     "text": [
      "08:33:13 INFO:loading projection weights from C:\\Users\\reshm/web_data\\embeddings\\hdc/hdc300.txt.bz2\n"
     ]
    }
   ],
   "source": [
    "HDC = fetch_HDC()"
   ]
  },
  {
   "cell_type": "code",
   "execution_count": 15,
   "metadata": {},
   "outputs": [
    {
     "name": "stdout",
     "output_type": "stream",
     "text": [
      "File already downloaded, skipping\n"
     ]
    },
    {
     "name": "stderr",
     "output_type": "stream",
     "text": [
      "08:36:49 INFO:loading projection weights from C:\\Users\\reshm/web_data\\embeddings\\numberbatch-en-17.06.txt.gz\n"
     ]
    }
   ],
   "source": [
    "conceptnet_numberbatch = fetch_conceptnet_numberbatch()"
   ]
  },
  {
   "cell_type": "code",
   "execution_count": 16,
   "metadata": {},
   "outputs": [
    {
     "name": "stdout",
     "output_type": "stream",
     "text": [
      "File already downloaded, skipping\n"
     ]
    },
    {
     "name": "stderr",
     "output_type": "stream",
     "text": [
      "08:39:20 INFO:loading projection weights from C:\\Users\\reshm/web_data\\embeddings\\wiki-news-300d-1M.vec\n"
     ]
    }
   ],
   "source": [
    "FastText = fetch_FastText()"
   ]
  },
  {
   "cell_type": "code",
   "execution_count": 17,
   "metadata": {},
   "outputs": [],
   "source": [
    "# Calculate results on analogy\n",
    "    \n",
    "analogy_tasks = {\n",
    "    \"MSR\": fetch_msr_analogy(),\n",
    "#     \"wordrep\":fetch_wordrep()\n",
    "    \"google_analogy\":  fetch_google_analogy()\n",
    "#     \"semeval_2012_2\": fetch_semeval_2012_2()\n",
    "}\n",
    "\n",
    "   "
   ]
  },
  {
   "cell_type": "code",
   "execution_count": 19,
   "metadata": {},
   "outputs": [
    {
     "name": "stderr",
     "output_type": "stream",
     "text": [
      "08:57:37 WARNING:Missing 4667 words. Will replace them with mean vector\n",
      "08:57:37 INFO:Processing 1/196 batch\n",
      "08:58:15 INFO:Processing 20/196 batch\n",
      "08:58:54 INFO:Processing 39/196 batch\n",
      "08:59:31 INFO:Processing 58/196 batch\n",
      "09:00:09 INFO:Processing 77/196 batch\n",
      "09:00:46 INFO:Processing 96/196 batch\n",
      "09:01:24 INFO:Processing 115/196 batch\n",
      "09:02:01 INFO:Processing 134/196 batch\n",
      "09:02:40 INFO:Processing 153/196 batch\n",
      "09:03:20 INFO:Processing 172/196 batch\n",
      "09:03:58 INFO:Processing 191/196 batch\n"
     ]
    },
    {
     "name": "stdout",
     "output_type": "stream",
     "text": [
      "Analogy prediction accuracy on FastText google_analogy 0.59250920998772\n"
     ]
    },
    {
     "name": "stderr",
     "output_type": "stream",
     "text": [
      "09:04:10 INFO:Processing 1/80 batch\n",
      "09:04:26 INFO:Processing 9/80 batch\n",
      "09:04:43 INFO:Processing 17/80 batch\n",
      "09:05:02 INFO:Processing 25/80 batch\n",
      "09:05:19 INFO:Processing 33/80 batch\n",
      "09:05:37 INFO:Processing 41/80 batch\n",
      "09:05:55 INFO:Processing 49/80 batch\n",
      "09:06:11 INFO:Processing 57/80 batch\n",
      "09:06:28 INFO:Processing 65/80 batch\n",
      "09:06:45 INFO:Processing 73/80 batch\n"
     ]
    },
    {
     "name": "stdout",
     "output_type": "stream",
     "text": [
      "Analogy prediction accuracy on FastText MSR 0.813\n"
     ]
    }
   ],
   "source": [
    "analogy_results = {}\n",
    "for name, data in iteritems(analogy_tasks):\n",
    "    analogy_results[name] = evaluate_analogy(FastText, data.X, data.y)\n",
    "    print(\"Analogy prediction accuracy on FastText {} {}\".format(name, analogy_results[name]))"
   ]
  },
  {
   "cell_type": "code",
   "execution_count": 20,
   "metadata": {},
   "outputs": [
    {
     "name": "stderr",
     "output_type": "stream",
     "text": [
      "09:07:03 INFO:Processing 1/196 batch\n",
      "09:07:19 INFO:Processing 20/196 batch\n",
      "09:07:35 INFO:Processing 39/196 batch\n",
      "09:07:51 INFO:Processing 58/196 batch\n",
      "09:08:06 INFO:Processing 77/196 batch\n",
      "09:08:22 INFO:Processing 96/196 batch\n",
      "09:08:38 INFO:Processing 115/196 batch\n",
      "09:08:53 INFO:Processing 134/196 batch\n",
      "09:09:08 INFO:Processing 153/196 batch\n",
      "09:09:23 INFO:Processing 172/196 batch\n",
      "09:09:39 INFO:Processing 191/196 batch\n"
     ]
    },
    {
     "name": "stdout",
     "output_type": "stream",
     "text": [
      "Analogy prediction accuracy on wiki - glove google_analogy 0.7173557101923864\n"
     ]
    },
    {
     "name": "stderr",
     "output_type": "stream",
     "text": [
      "09:09:44 WARNING:Missing 164 words. Will replace them with mean vector\n",
      "09:09:44 INFO:Processing 1/80 batch\n",
      "09:09:50 INFO:Processing 9/80 batch\n",
      "09:09:57 INFO:Processing 17/80 batch\n",
      "09:10:03 INFO:Processing 25/80 batch\n",
      "09:10:10 INFO:Processing 33/80 batch\n",
      "09:10:18 INFO:Processing 41/80 batch\n",
      "09:10:25 INFO:Processing 49/80 batch\n",
      "09:10:31 INFO:Processing 57/80 batch\n",
      "09:10:37 INFO:Processing 65/80 batch\n",
      "09:10:44 INFO:Processing 73/80 batch\n"
     ]
    },
    {
     "name": "stdout",
     "output_type": "stream",
     "text": [
      "Analogy prediction accuracy on wiki - glove MSR 0.61425\n"
     ]
    }
   ],
   "source": [
    "analogy_results = {}\n",
    "for name, data in iteritems(analogy_tasks):\n",
    "    analogy_results[name] = evaluate_analogy(w_glove, data.X, data.y)\n",
    "    print(\"Analogy prediction accuracy on wiki - glove {} {}\".format(name, analogy_results[name]))\n"
   ]
  },
  {
   "cell_type": "code",
   "execution_count": 21,
   "metadata": {},
   "outputs": [
    {
     "name": "stderr",
     "output_type": "stream",
     "text": [
      "09:10:55 WARNING:Missing 749 words. Will replace them with mean vector\n",
      "09:10:55 INFO:Processing 1/196 batch\n",
      "09:11:34 INFO:Processing 20/196 batch\n",
      "09:12:16 INFO:Processing 39/196 batch\n",
      "09:12:55 INFO:Processing 58/196 batch\n",
      "09:13:33 INFO:Processing 77/196 batch\n",
      "09:14:12 INFO:Processing 96/196 batch\n",
      "09:14:50 INFO:Processing 115/196 batch\n",
      "09:15:28 INFO:Processing 134/196 batch\n",
      "09:16:06 INFO:Processing 153/196 batch\n",
      "09:16:45 INFO:Processing 172/196 batch\n",
      "09:17:23 INFO:Processing 191/196 batch\n"
     ]
    },
    {
     "name": "stdout",
     "output_type": "stream",
     "text": [
      "Analogy prediction accuracy on twitter glove google_analogy 0.42749693000409333\n"
     ]
    },
    {
     "name": "stderr",
     "output_type": "stream",
     "text": [
      "09:17:35 WARNING:Missing 353 words. Will replace them with mean vector\n",
      "09:17:35 INFO:Processing 1/80 batch\n",
      "09:17:52 INFO:Processing 9/80 batch\n",
      "09:18:08 INFO:Processing 17/80 batch\n",
      "09:18:24 INFO:Processing 25/80 batch\n",
      "09:18:40 INFO:Processing 33/80 batch\n",
      "09:18:56 INFO:Processing 41/80 batch\n",
      "09:19:12 INFO:Processing 49/80 batch\n",
      "09:19:28 INFO:Processing 57/80 batch\n",
      "09:19:45 INFO:Processing 65/80 batch\n",
      "09:20:01 INFO:Processing 73/80 batch\n"
     ]
    },
    {
     "name": "stdout",
     "output_type": "stream",
     "text": [
      "Analogy prediction accuracy on twitter glove MSR 0.427125\n"
     ]
    }
   ],
   "source": [
    "analogy_results = {}\n",
    "for name, data in iteritems(analogy_tasks):\n",
    "    analogy_results[name] = evaluate_analogy(t_glove, data.X, data.y)\n",
    "    print(\"Analogy prediction accuracy on twitter glove {} {}\".format(name, analogy_results[name]))\n"
   ]
  },
  {
   "cell_type": "code",
   "execution_count": 22,
   "metadata": {},
   "outputs": [
    {
     "name": "stderr",
     "output_type": "stream",
     "text": [
      "09:20:31 WARNING:Missing 702 words. Will replace them with mean vector\n",
      "09:20:31 INFO:Processing 1/196 batch\n",
      "09:21:54 INFO:Processing 20/196 batch\n",
      "09:23:15 INFO:Processing 39/196 batch\n",
      "09:24:36 INFO:Processing 58/196 batch\n",
      "09:26:03 INFO:Processing 77/196 batch\n",
      "09:27:26 INFO:Processing 96/196 batch\n",
      "09:28:47 INFO:Processing 115/196 batch\n",
      "09:30:11 INFO:Processing 134/196 batch\n",
      "09:31:34 INFO:Processing 153/196 batch\n",
      "09:33:00 INFO:Processing 172/196 batch\n",
      "09:34:27 INFO:Processing 191/196 batch\n"
     ]
    },
    {
     "name": "stdout",
     "output_type": "stream",
     "text": [
      "Analogy prediction accuracy on common-crawl glove google_analogy 0.7019545640605812\n"
     ]
    },
    {
     "name": "stderr",
     "output_type": "stream",
     "text": [
      "09:34:55 INFO:Processing 1/80 batch\n",
      "09:35:31 INFO:Processing 9/80 batch\n",
      "09:36:07 INFO:Processing 17/80 batch\n",
      "09:36:43 INFO:Processing 25/80 batch\n",
      "09:37:19 INFO:Processing 33/80 batch\n",
      "09:37:55 INFO:Processing 41/80 batch\n",
      "09:38:31 INFO:Processing 49/80 batch\n",
      "09:39:07 INFO:Processing 57/80 batch\n",
      "09:39:43 INFO:Processing 65/80 batch\n",
      "09:40:20 INFO:Processing 73/80 batch\n"
     ]
    },
    {
     "name": "stdout",
     "output_type": "stream",
     "text": [
      "Analogy prediction accuracy on common-crawl glove MSR 0.741\n"
     ]
    }
   ],
   "source": [
    "analogy_results = {}\n",
    "for name, data in iteritems(analogy_tasks):\n",
    "    analogy_results[name] = evaluate_analogy(cc_glove, data.X, data.y)\n",
    "    print(\"Analogy prediction accuracy on common-crawl glove {} {}\".format(name, analogy_results[name]))\n"
   ]
  },
  {
   "cell_type": "code",
   "execution_count": 23,
   "metadata": {},
   "outputs": [
    {
     "name": "stderr",
     "output_type": "stream",
     "text": [
      "09:41:11 WARNING:Missing 9402 words. Will replace them with mean vector\n",
      "09:41:11 INFO:Processing 1/196 batch\n",
      "09:43:03 INFO:Processing 20/196 batch\n",
      "09:44:56 INFO:Processing 39/196 batch\n",
      "09:46:49 INFO:Processing 58/196 batch\n",
      "09:48:41 INFO:Processing 77/196 batch\n",
      "09:50:33 INFO:Processing 96/196 batch\n",
      "09:52:28 INFO:Processing 115/196 batch\n",
      "09:54:21 INFO:Processing 134/196 batch\n",
      "09:56:15 INFO:Processing 153/196 batch\n",
      "09:58:06 INFO:Processing 172/196 batch\n",
      "09:59:57 INFO:Processing 191/196 batch\n"
     ]
    },
    {
     "name": "stdout",
     "output_type": "stream",
     "text": [
      "Analogy prediction accuracy on SG_googleNews google_analogy 0.40181129758493656\n"
     ]
    },
    {
     "name": "stderr",
     "output_type": "stream",
     "text": [
      "10:00:36 INFO:Processing 1/80 batch\n",
      "10:01:23 INFO:Processing 9/80 batch\n",
      "10:02:10 INFO:Processing 17/80 batch\n",
      "10:02:57 INFO:Processing 25/80 batch\n",
      "10:03:43 INFO:Processing 33/80 batch\n",
      "10:04:30 INFO:Processing 41/80 batch\n",
      "10:05:18 INFO:Processing 49/80 batch\n",
      "10:06:05 INFO:Processing 57/80 batch\n",
      "10:06:53 INFO:Processing 65/80 batch\n",
      "10:07:41 INFO:Processing 73/80 batch\n"
     ]
    },
    {
     "name": "stdout",
     "output_type": "stream",
     "text": [
      "Analogy prediction accuracy on SG_googleNews MSR 0.711875\n"
     ]
    }
   ],
   "source": [
    "analogy_results = {}\n",
    "for name, data in iteritems(analogy_tasks):\n",
    "    analogy_results[name] = evaluate_analogy(SG_googleNews, data.X, data.y)\n",
    "    print(\"Analogy prediction accuracy on SG_googleNews {} {}\".format(name, analogy_results[name]))\n"
   ]
  },
  {
   "cell_type": "code",
   "execution_count": 24,
   "metadata": {},
   "outputs": [
    {
     "name": "stderr",
     "output_type": "stream",
     "text": [
      "10:08:38 INFO:Processing 1/196 batch\n",
      "10:09:56 INFO:Processing 20/196 batch\n",
      "10:11:10 INFO:Processing 39/196 batch\n",
      "10:12:24 INFO:Processing 58/196 batch\n",
      "10:13:39 INFO:Processing 77/196 batch\n",
      "10:14:54 INFO:Processing 96/196 batch\n",
      "10:16:09 INFO:Processing 115/196 batch\n",
      "10:17:23 INFO:Processing 134/196 batch\n",
      "10:18:37 INFO:Processing 153/196 batch\n",
      "10:19:52 INFO:Processing 172/196 batch\n",
      "10:21:08 INFO:Processing 191/196 batch\n"
     ]
    },
    {
     "name": "stdout",
     "output_type": "stream",
     "text": [
      "Analogy prediction accuracy on LexVec google_analogy 0.7103970528039296\n"
     ]
    },
    {
     "name": "stderr",
     "output_type": "stream",
     "text": [
      "10:21:33 INFO:Processing 1/80 batch\n",
      "10:22:04 INFO:Processing 9/80 batch\n",
      "10:22:36 INFO:Processing 17/80 batch\n",
      "10:23:08 INFO:Processing 25/80 batch\n",
      "10:23:40 INFO:Processing 33/80 batch\n",
      "10:24:11 INFO:Processing 41/80 batch\n",
      "10:24:43 INFO:Processing 49/80 batch\n",
      "10:25:14 INFO:Processing 57/80 batch\n",
      "10:25:46 INFO:Processing 65/80 batch\n",
      "10:26:17 INFO:Processing 73/80 batch\n"
     ]
    },
    {
     "name": "stdout",
     "output_type": "stream",
     "text": [
      "Analogy prediction accuracy on LexVec MSR 0.601125\n"
     ]
    }
   ],
   "source": [
    "analogy_results = {}\n",
    "for name, data in iteritems(analogy_tasks):\n",
    "    analogy_results[name] = evaluate_analogy(LexVec, data.X, data.y)\n",
    "    print(\"Analogy prediction accuracy on LexVec {} {}\".format(name, analogy_results[name]))\n"
   ]
  },
  {
   "cell_type": "code",
   "execution_count": 25,
   "metadata": {},
   "outputs": [
    {
     "name": "stderr",
     "output_type": "stream",
     "text": [
      "10:26:59 WARNING:Missing 234 words. Will replace them with mean vector\n",
      "10:26:59 INFO:Processing 1/196 batch\n",
      "10:28:17 INFO:Processing 20/196 batch\n",
      "10:29:31 INFO:Processing 39/196 batch\n",
      "10:30:45 INFO:Processing 58/196 batch\n",
      "10:31:58 INFO:Processing 77/196 batch\n",
      "10:33:13 INFO:Processing 96/196 batch\n",
      "10:34:28 INFO:Processing 115/196 batch\n",
      "10:35:44 INFO:Processing 134/196 batch\n",
      "10:36:59 INFO:Processing 153/196 batch\n",
      "10:38:13 INFO:Processing 172/196 batch\n",
      "10:39:27 INFO:Processing 191/196 batch\n"
     ]
    },
    {
     "name": "stdout",
     "output_type": "stream",
     "text": [
      "Analogy prediction accuracy on CC_LexVec google_analogy 0.5854993860008186\n"
     ]
    },
    {
     "name": "stderr",
     "output_type": "stream",
     "text": [
      "10:39:51 INFO:Processing 1/80 batch\n",
      "10:40:23 INFO:Processing 9/80 batch\n",
      "10:40:54 INFO:Processing 17/80 batch\n",
      "10:41:25 INFO:Processing 25/80 batch\n",
      "10:41:56 INFO:Processing 33/80 batch\n",
      "10:42:28 INFO:Processing 41/80 batch\n",
      "10:42:59 INFO:Processing 49/80 batch\n",
      "10:43:31 INFO:Processing 57/80 batch\n",
      "10:44:03 INFO:Processing 65/80 batch\n",
      "10:44:34 INFO:Processing 73/80 batch\n"
     ]
    },
    {
     "name": "stdout",
     "output_type": "stream",
     "text": [
      "Analogy prediction accuracy on CC_LexVec MSR 0.686625\n"
     ]
    }
   ],
   "source": [
    "analogy_results = {}\n",
    "for name, data in iteritems(analogy_tasks):\n",
    "    analogy_results[name] = evaluate_analogy(CC_LexVec, data.X, data.y)\n",
    "    print(\"Analogy prediction accuracy on CC_LexVec {} {}\".format(name, analogy_results[name]))"
   ]
  },
  {
   "cell_type": "code",
   "execution_count": 26,
   "metadata": {},
   "outputs": [
    {
     "name": "stderr",
     "output_type": "stream",
     "text": [
      "10:45:07 INFO:Processing 1/196 batch\n",
      "10:45:21 INFO:Processing 20/196 batch\n",
      "10:45:35 INFO:Processing 39/196 batch\n",
      "10:45:50 INFO:Processing 58/196 batch\n",
      "10:46:04 INFO:Processing 77/196 batch\n",
      "10:46:18 INFO:Processing 96/196 batch\n",
      "10:46:32 INFO:Processing 115/196 batch\n",
      "10:46:46 INFO:Processing 134/196 batch\n",
      "10:47:01 INFO:Processing 153/196 batch\n",
      "10:47:15 INFO:Processing 172/196 batch\n",
      "10:47:29 INFO:Processing 191/196 batch\n"
     ]
    },
    {
     "name": "stdout",
     "output_type": "stream",
     "text": [
      "Analogy prediction accuracy on PDC google_analogy 0.7475951698731068\n"
     ]
    },
    {
     "name": "stderr",
     "output_type": "stream",
     "text": [
      "10:47:34 WARNING:Missing 241 words. Will replace them with mean vector\n",
      "10:47:34 INFO:Processing 1/80 batch\n",
      "10:47:40 INFO:Processing 9/80 batch\n",
      "10:47:46 INFO:Processing 17/80 batch\n",
      "10:47:52 INFO:Processing 25/80 batch\n",
      "10:47:58 INFO:Processing 33/80 batch\n",
      "10:48:04 INFO:Processing 41/80 batch\n",
      "10:48:10 INFO:Processing 49/80 batch\n",
      "10:48:16 INFO:Processing 57/80 batch\n",
      "10:48:23 INFO:Processing 65/80 batch\n",
      "10:48:29 INFO:Processing 73/80 batch\n"
     ]
    },
    {
     "name": "stdout",
     "output_type": "stream",
     "text": [
      "Analogy prediction accuracy on PDC MSR 0.596375\n"
     ]
    }
   ],
   "source": [
    "analogy_results = {}\n",
    "for name, data in iteritems(analogy_tasks):\n",
    "    analogy_results[name] = evaluate_analogy(PDC, data.X, data.y)\n",
    "    print(\"Analogy prediction accuracy on PDC {} {}\".format(name, analogy_results[name]))"
   ]
  },
  {
   "cell_type": "code",
   "execution_count": 27,
   "metadata": {},
   "outputs": [
    {
     "name": "stderr",
     "output_type": "stream",
     "text": [
      "10:48:36 INFO:Processing 1/196 batch\n",
      "10:48:51 INFO:Processing 20/196 batch\n",
      "10:49:05 INFO:Processing 39/196 batch\n",
      "10:49:20 INFO:Processing 58/196 batch\n",
      "10:49:36 INFO:Processing 77/196 batch\n",
      "10:49:50 INFO:Processing 96/196 batch\n",
      "10:50:04 INFO:Processing 115/196 batch\n",
      "10:50:19 INFO:Processing 134/196 batch\n",
      "10:50:34 INFO:Processing 153/196 batch\n",
      "10:50:48 INFO:Processing 172/196 batch\n",
      "10:51:03 INFO:Processing 191/196 batch\n"
     ]
    },
    {
     "name": "stdout",
     "output_type": "stream",
     "text": [
      "Analogy prediction accuracy on HDC google_analogy 0.7312730249693\n"
     ]
    },
    {
     "name": "stderr",
     "output_type": "stream",
     "text": [
      "10:51:08 WARNING:Missing 241 words. Will replace them with mean vector\n",
      "10:51:08 INFO:Processing 1/80 batch\n",
      "10:51:15 INFO:Processing 9/80 batch\n",
      "10:51:21 INFO:Processing 17/80 batch\n",
      "10:51:27 INFO:Processing 25/80 batch\n",
      "10:51:33 INFO:Processing 33/80 batch\n",
      "10:51:39 INFO:Processing 41/80 batch\n",
      "10:51:45 INFO:Processing 49/80 batch\n",
      "10:51:52 INFO:Processing 57/80 batch\n",
      "10:51:58 INFO:Processing 65/80 batch\n",
      "10:52:04 INFO:Processing 73/80 batch\n"
     ]
    },
    {
     "name": "stdout",
     "output_type": "stream",
     "text": [
      "Analogy prediction accuracy on HDC MSR 0.564375\n"
     ]
    }
   ],
   "source": [
    "analogy_results = {}\n",
    "for name, data in iteritems(analogy_tasks):\n",
    "    analogy_results[name] = evaluate_analogy(HDC, data.X, data.y)\n",
    "    print(\"Analogy prediction accuracy on HDC {} {}\".format(name, analogy_results[name]))"
   ]
  },
  {
   "cell_type": "code",
   "execution_count": 28,
   "metadata": {},
   "outputs": [
    {
     "name": "stderr",
     "output_type": "stream",
     "text": [
      "10:52:12 INFO:Processing 1/196 batch\n",
      "10:52:28 INFO:Processing 20/196 batch\n",
      "10:52:43 INFO:Processing 39/196 batch\n",
      "10:52:59 INFO:Processing 58/196 batch\n",
      "10:53:14 INFO:Processing 77/196 batch\n",
      "10:53:30 INFO:Processing 96/196 batch\n",
      "10:53:46 INFO:Processing 115/196 batch\n",
      "10:54:01 INFO:Processing 134/196 batch\n",
      "10:54:17 INFO:Processing 153/196 batch\n",
      "10:54:32 INFO:Processing 172/196 batch\n",
      "10:54:48 INFO:Processing 191/196 batch\n"
     ]
    },
    {
     "name": "stdout",
     "output_type": "stream",
     "text": [
      "Analogy prediction accuracy on conceptnet_numberbatch google_analogy 0.3812423250102333\n"
     ]
    },
    {
     "name": "stderr",
     "output_type": "stream",
     "text": [
      "10:54:53 WARNING:Missing 287 words. Will replace them with mean vector\n",
      "10:54:53 INFO:Processing 1/80 batch\n",
      "10:55:00 INFO:Processing 9/80 batch\n",
      "10:55:06 INFO:Processing 17/80 batch\n",
      "10:55:13 INFO:Processing 25/80 batch\n",
      "10:55:19 INFO:Processing 33/80 batch\n",
      "10:55:26 INFO:Processing 41/80 batch\n",
      "10:55:33 INFO:Processing 49/80 batch\n",
      "10:55:40 INFO:Processing 57/80 batch\n",
      "10:55:46 INFO:Processing 65/80 batch\n",
      "10:55:53 INFO:Processing 73/80 batch\n"
     ]
    },
    {
     "name": "stdout",
     "output_type": "stream",
     "text": [
      "Analogy prediction accuracy on conceptnet_numberbatch MSR 0.539375\n"
     ]
    }
   ],
   "source": [
    "analogy_results = {}\n",
    "for name, data in iteritems(analogy_tasks):\n",
    "    analogy_results[name] = evaluate_analogy(conceptnet_numberbatch, data.X, data.y)\n",
    "    print(\"Analogy prediction accuracy on conceptnet_numberbatch {} {}\".format(name, analogy_results[name]))"
   ]
  },
  {
   "cell_type": "code",
   "execution_count": 31,
   "metadata": {},
   "outputs": [
    {
     "name": "stdout",
     "output_type": "stream",
     "text": [
      "Analogy prediction accuracy on FastText\n"
     ]
    },
    {
     "name": "stderr",
     "output_type": "stream",
     "text": [
      "c:\\users\\reshm\\appdata\\local\\programs\\python\\python35\\lib\\site-packages\\web-0.0.1-py3.5.egg\\web\\evaluate.py:143: FutureWarning: arrays to stack must be passed as a \"sequence\" type such as list or tuple. Support for non-sequence iterables such as generators is deprecated as of NumPy 1.16 and will raise an error in the future.\n",
      "  prot_left = np.mean(np.vstack(w.get(word, mean_vector) for word in prototypes[:, 0]), axis=0)\n",
      "c:\\users\\reshm\\appdata\\local\\programs\\python\\python35\\lib\\site-packages\\web-0.0.1-py3.5.egg\\web\\evaluate.py:144: FutureWarning: arrays to stack must be passed as a \"sequence\" type such as list or tuple. Support for non-sequence iterables such as generators is deprecated as of NumPy 1.16 and will raise an error in the future.\n",
      "  prot_right = np.mean(np.vstack(w.get(word, mean_vector) for word in prototypes[:, 1]), axis=0)\n",
      "c:\\users\\reshm\\appdata\\local\\programs\\python\\python35\\lib\\site-packages\\web-0.0.1-py3.5.egg\\web\\evaluate.py:147: FutureWarning: arrays to stack must be passed as a \"sequence\" type such as list or tuple. Support for non-sequence iterables such as generators is deprecated as of NumPy 1.16 and will raise an error in the future.\n",
      "  question_left, question_right = np.vstack(w.get(word, mean_vector) for word in questions[:, 0]), \\\n",
      "c:\\users\\reshm\\appdata\\local\\programs\\python\\python35\\lib\\site-packages\\web-0.0.1-py3.5.egg\\web\\evaluate.py:148: FutureWarning: arrays to stack must be passed as a \"sequence\" type such as list or tuple. Support for non-sequence iterables such as generators is deprecated as of NumPy 1.16 and will raise an error in the future.\n",
      "  np.vstack(w.get(word, mean_vector) for word in questions[:, 1])\n",
      "c:\\users\\reshm\\appdata\\local\\programs\\python\\python35\\lib\\site-packages\\scipy\\stats\\stats.py:248: RuntimeWarning: The input array could not be properly checked for nan values. nan values will be ignored.\n",
      "  \"values. nan values will be ignored.\", RuntimeWarning)\n"
     ]
    },
    {
     "data": {
      "text/plain": [
       "0.2199777933090632"
      ]
     },
     "execution_count": 31,
     "metadata": {},
     "output_type": "execute_result"
    }
   ],
   "source": [
    "print(\"Analogy prediction accuracy on FastText\")\n",
    "evaluate_on_semeval_2012_2(FastText)[\"all\"]"
   ]
  },
  {
   "cell_type": "code",
   "execution_count": 32,
   "metadata": {},
   "outputs": [
    {
     "name": "stdout",
     "output_type": "stream",
     "text": [
      "Analogy prediction accuracy on wiki-glove\n"
     ]
    },
    {
     "data": {
      "text/plain": [
       "0.1639634887836932"
      ]
     },
     "execution_count": 32,
     "metadata": {},
     "output_type": "execute_result"
    }
   ],
   "source": [
    "print(\"Analogy prediction accuracy on wiki-glove\")\n",
    "evaluate_on_semeval_2012_2(w_glove)[\"all\"]"
   ]
  },
  {
   "cell_type": "code",
   "execution_count": 33,
   "metadata": {},
   "outputs": [
    {
     "name": "stdout",
     "output_type": "stream",
     "text": [
      "Analogy prediction accuracy on twitter-golve\n"
     ]
    },
    {
     "data": {
      "text/plain": [
       "0.14411429493739514"
      ]
     },
     "execution_count": 33,
     "metadata": {},
     "output_type": "execute_result"
    }
   ],
   "source": [
    "print(\"Analogy prediction accuracy on twitter-golve\")\n",
    "evaluate_on_semeval_2012_2(t_glove)[\"all\"]"
   ]
  },
  {
   "cell_type": "code",
   "execution_count": 34,
   "metadata": {},
   "outputs": [
    {
     "name": "stdout",
     "output_type": "stream",
     "text": [
      "Analogy prediction accuracy on  common-crawl glove\n"
     ]
    },
    {
     "data": {
      "text/plain": [
       "0.17075449404925752"
      ]
     },
     "execution_count": 34,
     "metadata": {},
     "output_type": "execute_result"
    }
   ],
   "source": [
    "print(\"Analogy prediction accuracy on  common-crawl glove\")\n",
    "evaluate_on_semeval_2012_2(cc_glove)[\"all\"]"
   ]
  },
  {
   "cell_type": "code",
   "execution_count": 35,
   "metadata": {},
   "outputs": [
    {
     "name": "stdout",
     "output_type": "stream",
     "text": [
      "Analogy prediction accuracy on SG_googleNews\n"
     ]
    },
    {
     "data": {
      "text/plain": [
       "0.20406019467135425"
      ]
     },
     "execution_count": 35,
     "metadata": {},
     "output_type": "execute_result"
    }
   ],
   "source": [
    "print(\"Analogy prediction accuracy on SG_googleNews\")\n",
    "evaluate_on_semeval_2012_2(SG_googleNews)[\"all\"]"
   ]
  },
  {
   "cell_type": "code",
   "execution_count": 36,
   "metadata": {},
   "outputs": [
    {
     "name": "stdout",
     "output_type": "stream",
     "text": [
      "Analogy prediction accuracy on LexVec\n"
     ]
    },
    {
     "data": {
      "text/plain": [
       "0.16797406647749855"
      ]
     },
     "execution_count": 36,
     "metadata": {},
     "output_type": "execute_result"
    }
   ],
   "source": [
    "print(\"Analogy prediction accuracy on LexVec\")\n",
    "evaluate_on_semeval_2012_2(LexVec)[\"all\"]"
   ]
  },
  {
   "cell_type": "code",
   "execution_count": 37,
   "metadata": {},
   "outputs": [
    {
     "name": "stdout",
     "output_type": "stream",
     "text": [
      "Analogy prediction accuracy on common-crawl LexVec\n"
     ]
    },
    {
     "data": {
      "text/plain": [
       "0.2192895767080383"
      ]
     },
     "execution_count": 37,
     "metadata": {},
     "output_type": "execute_result"
    }
   ],
   "source": [
    "print(\"Analogy prediction accuracy on common-crawl LexVec\")\n",
    "evaluate_on_semeval_2012_2(CC_LexVec)[\"all\"]"
   ]
  },
  {
   "cell_type": "code",
   "execution_count": 38,
   "metadata": {},
   "outputs": [
    {
     "name": "stdout",
     "output_type": "stream",
     "text": [
      "Analogy prediction accuracy on PDC\n"
     ]
    },
    {
     "data": {
      "text/plain": [
       "0.17407363050756555"
      ]
     },
     "execution_count": 38,
     "metadata": {},
     "output_type": "execute_result"
    }
   ],
   "source": [
    "print(\"Analogy prediction accuracy on PDC\")\n",
    "evaluate_on_semeval_2012_2(PDC)[\"all\"]"
   ]
  },
  {
   "cell_type": "code",
   "execution_count": 39,
   "metadata": {},
   "outputs": [
    {
     "name": "stdout",
     "output_type": "stream",
     "text": [
      "Analogy prediction accuracy on HDC\n"
     ]
    },
    {
     "data": {
      "text/plain": [
       "0.18451134540448863"
      ]
     },
     "execution_count": 39,
     "metadata": {},
     "output_type": "execute_result"
    }
   ],
   "source": [
    "print(\"Analogy prediction accuracy on HDC\")\n",
    "evaluate_on_semeval_2012_2(HDC)[\"all\"]"
   ]
  },
  {
   "cell_type": "code",
   "execution_count": 40,
   "metadata": {},
   "outputs": [
    {
     "name": "stdout",
     "output_type": "stream",
     "text": [
      "Analogy prediction accuracy on conceptnet_numberbatch\n"
     ]
    },
    {
     "data": {
      "text/plain": [
       "0.23810181362587327"
      ]
     },
     "execution_count": 40,
     "metadata": {},
     "output_type": "execute_result"
    }
   ],
   "source": [
    "print(\"Analogy prediction accuracy on conceptnet_numberbatch\")\n",
    "evaluate_on_semeval_2012_2(conceptnet_numberbatch)[\"all\"]"
   ]
  },
  {
   "cell_type": "code",
   "execution_count": null,
   "metadata": {},
   "outputs": [],
   "source": [
    "print(\"Analogy prediction accuracy on FastText \")\n",
    "evaluate_on_WordRep(FastText)"
   ]
  },
  {
   "cell_type": "code",
   "execution_count": null,
   "metadata": {},
   "outputs": [],
   "source": [
    "print(\"Analogy prediction accuracy on  wiki-glove \")\n",
    "evaluate_on_WordRep(w_glove)"
   ]
  },
  {
   "cell_type": "code",
   "execution_count": null,
   "metadata": {},
   "outputs": [],
   "source": [
    "print(\"Analogy prediction accuracy on twitter-glove\")\n",
    "evaluate_on_WordRep(t_glove,max_pairs = 200)"
   ]
  },
  {
   "cell_type": "code",
   "execution_count": null,
   "metadata": {},
   "outputs": [],
   "source": [
    "print(\"Analogy prediction accuracy on common-crawl glove\")\n",
    "evaluate_on_WordRep(cc_glove,max_pairs = 200)"
   ]
  },
  {
   "cell_type": "code",
   "execution_count": null,
   "metadata": {},
   "outputs": [],
   "source": [
    "print(\"Analogy prediction accuracy on SG_googleNews\")\n",
    "evaluate_on_WordRep(SG_googleNews,max_pairs = 200)"
   ]
  },
  {
   "cell_type": "code",
   "execution_count": null,
   "metadata": {},
   "outputs": [],
   "source": [
    "print(\"Analogy prediction accuracy on LexVec\")\n",
    "evaluate_on_WordRep(LexVec,max_pairs = 200)"
   ]
  },
  {
   "cell_type": "code",
   "execution_count": null,
   "metadata": {},
   "outputs": [],
   "source": [
    "print(\"Analogy prediction accuracy on common-crawl LexVec\")\n",
    "evaluate_on_WordRep(CC_LexVec,max_pairs = 200)"
   ]
  },
  {
   "cell_type": "code",
   "execution_count": null,
   "metadata": {},
   "outputs": [],
   "source": [
    "print(\"Analogy prediction accuracy on PDC\")\n",
    "evaluate_on_WordRep(PDC,max_pairs = 200)"
   ]
  },
  {
   "cell_type": "code",
   "execution_count": null,
   "metadata": {},
   "outputs": [],
   "source": [
    "print(\"Analogy prediction accuracy on HDC\")\n",
    "evaluate_on_WordRep(HDC,max_pairs = 200)"
   ]
  },
  {
   "cell_type": "code",
   "execution_count": null,
   "metadata": {},
   "outputs": [],
   "source": [
    "print(\"Analogy prediction accuracy on conceptnet_numberbatch\")\n",
    "evaluate_on_WordRep(conceptnet_numberbatch,max_pairs = 200)[\"all\"]"
   ]
  },
  {
   "cell_type": "code",
   "execution_count": null,
   "metadata": {},
   "outputs": [],
   "source": []
  },
  {
   "cell_type": "code",
   "execution_count": null,
   "metadata": {},
   "outputs": [],
   "source": []
  },
  {
   "cell_type": "code",
   "execution_count": null,
   "metadata": {},
   "outputs": [],
   "source": []
  }
 ],
 "metadata": {
  "kernelspec": {
   "display_name": "Python 3",
   "language": "python",
   "name": "python3"
  },
  "language_info": {
   "codemirror_mode": {
    "name": "ipython",
    "version": 3
   },
   "file_extension": ".py",
   "mimetype": "text/x-python",
   "name": "python",
   "nbconvert_exporter": "python",
   "pygments_lexer": "ipython3",
   "version": "3.5.4"
  }
 },
 "nbformat": 4,
 "nbformat_minor": 1
}
