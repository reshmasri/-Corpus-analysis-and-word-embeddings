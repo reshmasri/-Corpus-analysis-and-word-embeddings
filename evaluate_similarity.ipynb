{
 "cells": [
  {
   "cell_type": "code",
   "execution_count": 6,
   "metadata": {},
   "outputs": [],
   "source": [
    "import logging\n",
    "from six import iteritems\n",
    "from web.datasets.similarity import *\n",
    "from web.embeddings import *\n",
    "from web.evaluate import evaluate_similarity\n",
    "import warnings\n",
    "warnings.filterwarnings(\"ignore\")"
   ]
  },
  {
   "cell_type": "code",
   "execution_count": 4,
   "metadata": {},
   "outputs": [],
   "source": [
    "# Configure logging\n",
    "logging.basicConfig(format='%(asctime)s %(levelname)s:%(message)s', level=logging.DEBUG, datefmt='%I:%M:%S')"
   ]
  },
  {
   "cell_type": "code",
   "execution_count": 7,
   "metadata": {},
   "outputs": [
    {
     "name": "stdout",
     "output_type": "stream",
     "text": [
      "File already downloaded, skipping\n"
     ]
    }
   ],
   "source": [
    "# Fetch GloVe embedding (warning: it might take few minutes)\n",
    "w_glove = fetch_GloVe(corpus=\"wiki-6B\", dim=300)"
   ]
  },
  {
   "cell_type": "code",
   "execution_count": 10,
   "metadata": {},
   "outputs": [
    {
     "name": "stdout",
     "output_type": "stream",
     "text": [
      "File already downloaded, skipping\n"
     ]
    }
   ],
   "source": [
    "t_glove = fetch_GloVe(corpus=\"twitter-27B\", dim=100)"
   ]
  },
  {
   "cell_type": "code",
   "execution_count": 11,
   "metadata": {},
   "outputs": [
    {
     "name": "stdout",
     "output_type": "stream",
     "text": [
      "File already downloaded, skipping\n"
     ]
    },
    {
     "name": "stderr",
     "output_type": "stream",
     "text": [
      "10:49:42 WARNING:We ignored line number 140648 - following word is duplicated in file:\n",
      "����������������������������������������������������������������������������������������������������������������������������������������������������������������������������������������������������������������������������������������������������������������������������������������������������������������������������������������������\n",
      "\n"
     ]
    }
   ],
   "source": [
    "cc_glove = fetch_GloVe(corpus=\"common-crawl-840B\", dim=300)"
   ]
  },
  {
   "cell_type": "code",
   "execution_count": 12,
   "metadata": {},
   "outputs": [
    {
     "name": "stdout",
     "output_type": "stream",
     "text": [
      "File already downloaded, skipping\n"
     ]
    },
    {
     "name": "stderr",
     "output_type": "stream",
     "text": [
      "11:27:48 INFO:loading projection weights from C:\\Users\\reshm/web_data\\embeddings\\GoogleNews-vectors-negative300.bin.gz\n",
      "11:27:48 INFO:Loading #3000000 words with 300 dim\n"
     ]
    }
   ],
   "source": [
    "# Fetches SG (skip-gram with negative sampling) embeddings trained on GoogleNews dataset published on word2vec website\n",
    "SG_googleNews = fetch_SG_GoogleNews()"
   ]
  },
  {
   "cell_type": "code",
   "execution_count": 13,
   "metadata": {},
   "outputs": [
    {
     "name": "stdout",
     "output_type": "stream",
     "text": [
      "File already downloaded, skipping\n"
     ]
    },
    {
     "name": "stderr",
     "output_type": "stream",
     "text": [
      "11:33:02 INFO:loading projection weights from C:\\Users\\reshm/web_data\\embeddings\\lexvec.commoncrawl.300d.W%2BC.pos.vectors.gz\n"
     ]
    }
   ],
   "source": [
    "LexVec = fetch_LexVec(\"commoncrawl-W+C\")"
   ]
  },
  {
   "cell_type": "code",
   "execution_count": 14,
   "metadata": {},
   "outputs": [
    {
     "name": "stdout",
     "output_type": "stream",
     "text": [
      "File already downloaded, skipping\n"
     ]
    },
    {
     "name": "stderr",
     "output_type": "stream",
     "text": [
      "12:03:08 INFO:loading projection weights from C:\\Users\\reshm/web_data\\embeddings\\lexvec.commoncrawl.ngramsubwords.300d.W.pos.vectors.gz\n"
     ]
    }
   ],
   "source": [
    "CC_LexVec = fetch_LexVec(\"commoncrawl-ngramsubwords-W\")"
   ]
  },
  {
   "cell_type": "code",
   "execution_count": 15,
   "metadata": {},
   "outputs": [
    {
     "name": "stdout",
     "output_type": "stream",
     "text": [
      "File already downloaded, skipping\n"
     ]
    },
    {
     "name": "stderr",
     "output_type": "stream",
     "text": [
      "12:23:48 INFO:loading projection weights from C:\\Users\\reshm/web_data\\embeddings\\pdc/pdc300.txt.bz2\n"
     ]
    }
   ],
   "source": [
    "PDC = fetch_PDC()"
   ]
  },
  {
   "cell_type": "code",
   "execution_count": 16,
   "metadata": {},
   "outputs": [
    {
     "name": "stdout",
     "output_type": "stream",
     "text": [
      "File already downloaded, skipping\n"
     ]
    },
    {
     "name": "stderr",
     "output_type": "stream",
     "text": [
      "12:29:49 INFO:loading projection weights from C:\\Users\\reshm/web_data\\embeddings\\hdc/hdc300.txt.bz2\n"
     ]
    }
   ],
   "source": [
    "HDC = fetch_HDC()"
   ]
  },
  {
   "cell_type": "code",
   "execution_count": 17,
   "metadata": {},
   "outputs": [
    {
     "name": "stdout",
     "output_type": "stream",
     "text": [
      "File already downloaded, skipping\n"
     ]
    },
    {
     "name": "stderr",
     "output_type": "stream",
     "text": [
      "12:37:43 INFO:loading projection weights from C:\\Users\\reshm/web_data\\embeddings\\numberbatch-en-17.06.txt.gz\n"
     ]
    }
   ],
   "source": [
    "conceptnet_numberbatch = fetch_conceptnet_numberbatch()"
   ]
  },
  {
   "cell_type": "code",
   "execution_count": 30,
   "metadata": {},
   "outputs": [
    {
     "name": "stdout",
     "output_type": "stream",
     "text": [
      "File already downloaded, skipping\n"
     ]
    },
    {
     "name": "stderr",
     "output_type": "stream",
     "text": [
      "01:46:47 INFO:loading projection weights from C:\\Users\\reshm/web_data\\embeddings\\wiki-news-300d-1M.vec\n"
     ]
    }
   ],
   "source": [
    "FastText = fetch_FastText()"
   ]
  },
  {
   "cell_type": "code",
   "execution_count": 19,
   "metadata": {},
   "outputs": [],
   "source": [
    "# Define tasks\n",
    "tasks = {\n",
    "    \"MTurk\":fetch_MTurk(),\n",
    "    \"MEN\": fetch_MEN(),\n",
    "    \"WS353\": fetch_WS353(),\n",
    "    \"RG65\":fetch_RG65(),\n",
    "    \"RW\":fetch_RW(),\n",
    "#     \"multilingual_SimLex999\":fetch_multilingual_SimLex999(),\n",
    "    \"SIMLEX999\": fetch_SimLex999(),\n",
    "    \"TR9856\":fetch_TR9856()\n",
    "}"
   ]
  },
  {
   "cell_type": "code",
   "execution_count": 20,
   "metadata": {},
   "outputs": [
    {
     "name": "stdout",
     "output_type": "stream",
     "text": [
      "Sample data from TR9856: pair \"video\" and \"violent video games\" is assigned score 0.7\n",
      "Sample data from SIMLEX999: pair \"old\" and \"new\" is assigned score 1.58\n",
      "Sample data from RG65: pair \"gem\" and \"jewel\" is assigned score 9.85\n",
      "Sample data from RW: pair \"squishing\" and \"squirt\" is assigned score 5.88\n",
      "Sample data from MEN: pair \"sun\" and \"sunlight\" is assigned score [10.]\n",
      "Sample data from WS353: pair \"love\" and \"sex\" is assigned score 6.77\n",
      "Sample data from MTurk: pair \"episcopal\" and \"russia\" is assigned score 5.5\n"
     ]
    }
   ],
   "source": [
    "# Print sample data\n",
    "for name, data in iteritems(tasks):\n",
    "    print(\"Sample data from {}: pair \\\"{}\\\" and \\\"{}\\\" is assigned score {}\".format(name, data.X[0][0], data.X[0][1], data.y[0]))"
   ]
  },
  {
   "cell_type": "code",
   "execution_count": 31,
   "metadata": {},
   "outputs": [
    {
     "name": "stderr",
     "output_type": "stream",
     "text": [
      "01:55:21 WARNING:Missing 12191 words. Will replace them with mean vector\n"
     ]
    },
    {
     "name": "stdout",
     "output_type": "stream",
     "text": [
      "Spearman correlation of scores on TR9856 0.15788309420479923\n",
      "Spearman correlation of scores on SIMLEX999 0.44996491894642465\n",
      "Spearman correlation of scores on RG65 0.8462589237854313\n"
     ]
    },
    {
     "name": "stderr",
     "output_type": "stream",
     "text": [
      "01:55:22 WARNING:Missing 68 words. Will replace them with mean vector\n"
     ]
    },
    {
     "name": "stdout",
     "output_type": "stream",
     "text": [
      "Spearman correlation of scores on RW 0.5134075019761078\n",
      "Spearman correlation of scores on MEN 0.790632357439942\n",
      "Spearman correlation of scores on WS353 0.7332763287687719\n"
     ]
    },
    {
     "name": "stderr",
     "output_type": "stream",
     "text": [
      "01:55:23 WARNING:Missing 2 words. Will replace them with mean vector\n"
     ]
    },
    {
     "name": "stdout",
     "output_type": "stream",
     "text": [
      "Spearman correlation of scores on MTurk 0.7025490899343176\n"
     ]
    }
   ],
   "source": [
    "# Calculate results using helper function -Fast Text\n",
    "for name, data in iteritems(tasks):\n",
    "    print(\"Spearman correlation of scores on {} {}\".format(name, evaluate_similarity(FastText, data.X, data.y)))\n",
    "#     print(\"Spearman correlation of scores on {} {}\".format(name, evaluate_similarity(t_glove, data.X, data.y)))"
   ]
  },
  {
   "cell_type": "code",
   "execution_count": 21,
   "metadata": {},
   "outputs": [
    {
     "name": "stderr",
     "output_type": "stream",
     "text": [
      "01:44:28 WARNING:Missing 12079 words. Will replace them with mean vector\n"
     ]
    },
    {
     "name": "stdout",
     "output_type": "stream",
     "text": [
      "Spearman correlation of scores on TR9856 0.09671673395068581\n",
      "Spearman correlation of scores on SIMLEX999 0.37050035710869067\n",
      "Spearman correlation of scores on RG65 0.7695249788612132\n"
     ]
    },
    {
     "name": "stderr",
     "output_type": "stream",
     "text": [
      "01:44:30 WARNING:Missing 260 words. Will replace them with mean vector\n"
     ]
    },
    {
     "name": "stdout",
     "output_type": "stream",
     "text": [
      "Spearman correlation of scores on RW 0.36698186025023044\n",
      "Spearman correlation of scores on MEN 0.7374646969805517\n"
     ]
    },
    {
     "name": "stderr",
     "output_type": "stream",
     "text": [
      "01:44:30 WARNING:Missing 24 words. Will replace them with mean vector\n"
     ]
    },
    {
     "name": "stdout",
     "output_type": "stream",
     "text": [
      "Spearman correlation of scores on WS353 0.5433255613304138\n",
      "Spearman correlation of scores on MTurk 0.6331819978847202\n"
     ]
    }
   ],
   "source": [
    "# Calculate results using helper function - wiki glove\n",
    "for name, data in iteritems(tasks):\n",
    "    print(\"Spearman correlation of scores on {} {}\".format(name, evaluate_similarity(w_glove, data.X, data.y)))\n",
    "#     print(\"Spearman correlation of scores on {} {}\".format(name, evaluate_similarity(t_glove, data.X, data.y)))"
   ]
  },
  {
   "cell_type": "code",
   "execution_count": 22,
   "metadata": {},
   "outputs": [
    {
     "name": "stderr",
     "output_type": "stream",
     "text": [
      "01:44:31 WARNING:Missing 12236 words. Will replace them with mean vector\n"
     ]
    },
    {
     "name": "stdout",
     "output_type": "stream",
     "text": [
      "Spearman correlation of scores on TR9856 0.09276218520800271\n"
     ]
    },
    {
     "name": "stderr",
     "output_type": "stream",
     "text": [
      "01:44:33 WARNING:Missing 1 words. Will replace them with mean vector\n"
     ]
    },
    {
     "name": "stdout",
     "output_type": "stream",
     "text": [
      "Spearman correlation of scores on SIMLEX999 0.12221121100798378\n",
      "Spearman correlation of scores on RG65 0.6774486160113895\n"
     ]
    },
    {
     "name": "stderr",
     "output_type": "stream",
     "text": [
      "01:44:33 WARNING:Missing 1071 words. Will replace them with mean vector\n"
     ]
    },
    {
     "name": "stdout",
     "output_type": "stream",
     "text": [
      "Spearman correlation of scores on RW 0.23074174522387267\n"
     ]
    },
    {
     "name": "stderr",
     "output_type": "stream",
     "text": [
      "01:44:33 WARNING:Missing 1 words. Will replace them with mean vector\n"
     ]
    },
    {
     "name": "stdout",
     "output_type": "stream",
     "text": [
      "Spearman correlation of scores on MEN 0.5773369776281995\n"
     ]
    },
    {
     "name": "stderr",
     "output_type": "stream",
     "text": [
      "01:44:33 WARNING:Missing 25 words. Will replace them with mean vector\n"
     ]
    },
    {
     "name": "stdout",
     "output_type": "stream",
     "text": [
      "Spearman correlation of scores on WS353 0.46979381939437287\n"
     ]
    },
    {
     "name": "stderr",
     "output_type": "stream",
     "text": [
      "01:44:34 WARNING:Missing 1 words. Will replace them with mean vector\n"
     ]
    },
    {
     "name": "stdout",
     "output_type": "stream",
     "text": [
      "Spearman correlation of scores on MTurk 0.5641004632190647\n"
     ]
    }
   ],
   "source": [
    "# Calculate results using helper function - twitter glove\n",
    "for name, data in iteritems(tasks):\n",
    "    print(\"Spearman correlation of scores on {} {}\".format(name, evaluate_similarity(t_glove, data.X, data.y)))"
   ]
  },
  {
   "cell_type": "code",
   "execution_count": 23,
   "metadata": {},
   "outputs": [
    {
     "name": "stderr",
     "output_type": "stream",
     "text": [
      "01:44:34 WARNING:Missing 12086 words. Will replace them with mean vector\n"
     ]
    },
    {
     "name": "stdout",
     "output_type": "stream",
     "text": [
      "Spearman correlation of scores on TR9856 0.13003849894351185\n",
      "Spearman correlation of scores on SIMLEX999 0.47673828403023216\n",
      "Spearman correlation of scores on RG65 0.7439105717261566\n"
     ]
    },
    {
     "name": "stderr",
     "output_type": "stream",
     "text": [
      "01:44:44 WARNING:Missing 44 words. Will replace them with mean vector\n"
     ]
    },
    {
     "name": "stdout",
     "output_type": "stream",
     "text": [
      "Spearman correlation of scores on RW 0.5306812970165921\n",
      "Spearman correlation of scores on MEN 0.8065777794102159\n",
      "Spearman correlation of scores on WS353 0.7516234020849855\n",
      "Spearman correlation of scores on MTurk 0.7169411820849899\n"
     ]
    }
   ],
   "source": [
    "# Calculate results using helper function \n",
    "for name, data in iteritems(tasks):\n",
    "    print(\"Spearman correlation of scores on {} {}\".format(name, evaluate_similarity(CC_LexVec, data.X, data.y)))"
   ]
  },
  {
   "cell_type": "code",
   "execution_count": 24,
   "metadata": {},
   "outputs": [
    {
     "name": "stderr",
     "output_type": "stream",
     "text": [
      "01:44:46 WARNING:Missing 12109 words. Will replace them with mean vector\n"
     ]
    },
    {
     "name": "stdout",
     "output_type": "stream",
     "text": [
      "Spearman correlation of scores on TR9856 0.09808925497506757\n",
      "Spearman correlation of scores on SIMLEX999 0.4082854896445216\n",
      "Spearman correlation of scores on RG65 0.7695905447497842\n"
     ]
    },
    {
     "name": "stderr",
     "output_type": "stream",
     "text": [
      "01:45:02 WARNING:Missing 36 words. Will replace them with mean vector\n"
     ]
    },
    {
     "name": "stdout",
     "output_type": "stream",
     "text": [
      "Spearman correlation of scores on RW 0.45523270450496045\n",
      "Spearman correlation of scores on MEN 0.80163001303017\n",
      "Spearman correlation of scores on WS353 0.737943645690361\n",
      "Spearman correlation of scores on MTurk 0.6929358323325114\n"
     ]
    }
   ],
   "source": [
    "# Calculate results using helper function\n",
    "for name, data in iteritems(tasks):\n",
    "    print(\"Spearman correlation of scores on {} {}\".format(name, evaluate_similarity(cc_glove, data.X, data.y)))"
   ]
  },
  {
   "cell_type": "code",
   "execution_count": 25,
   "metadata": {},
   "outputs": [
    {
     "name": "stderr",
     "output_type": "stream",
     "text": [
      "01:45:05 WARNING:Missing 12282 words. Will replace them with mean vector\n"
     ]
    },
    {
     "name": "stdout",
     "output_type": "stream",
     "text": [
      "Spearman correlation of scores on TR9856 0.18029302543604522\n",
      "Spearman correlation of scores on SIMLEX999 0.44196551091403796\n",
      "Spearman correlation of scores on RG65 0.7607828603850846\n"
     ]
    },
    {
     "name": "stderr",
     "output_type": "stream",
     "text": [
      "01:45:34 WARNING:Missing 216 words. Will replace them with mean vector\n"
     ]
    },
    {
     "name": "stdout",
     "output_type": "stream",
     "text": [
      "Spearman correlation of scores on RW 0.49704752780279965\n"
     ]
    },
    {
     "name": "stderr",
     "output_type": "stream",
     "text": [
      "01:45:35 WARNING:Missing 55 words. Will replace them with mean vector\n"
     ]
    },
    {
     "name": "stdout",
     "output_type": "stream",
     "text": [
      "Spearman correlation of scores on MEN 0.7585110810100921\n",
      "Spearman correlation of scores on WS353 0.7000166486272194\n"
     ]
    },
    {
     "name": "stderr",
     "output_type": "stream",
     "text": [
      "01:45:36 WARNING:Missing 12 words. Will replace them with mean vector\n"
     ]
    },
    {
     "name": "stdout",
     "output_type": "stream",
     "text": [
      "Spearman correlation of scores on MTurk 0.6815064297688348\n"
     ]
    }
   ],
   "source": [
    "# Calculate results using helper function\n",
    "for name, data in iteritems(tasks):\n",
    "    print(\"Spearman correlation of scores on {} {}\".format(name, evaluate_similarity(SG_googleNews, data.X, data.y)))"
   ]
  },
  {
   "cell_type": "code",
   "execution_count": 26,
   "metadata": {},
   "outputs": [
    {
     "name": "stderr",
     "output_type": "stream",
     "text": [
      "01:45:37 WARNING:Missing 12091 words. Will replace them with mean vector\n"
     ]
    },
    {
     "name": "stdout",
     "output_type": "stream",
     "text": [
      "Spearman correlation of scores on TR9856 0.20727491726529151\n",
      "Spearman correlation of scores on SIMLEX999 0.42688240369049174\n",
      "Spearman correlation of scores on RG65 0.7900689572801152\n"
     ]
    },
    {
     "name": "stderr",
     "output_type": "stream",
     "text": [
      "01:45:41 WARNING:Missing 180 words. Will replace them with mean vector\n"
     ]
    },
    {
     "name": "stdout",
     "output_type": "stream",
     "text": [
      "Spearman correlation of scores on RW 0.47239269756591235\n",
      "Spearman correlation of scores on MEN 0.7726483374196268\n"
     ]
    },
    {
     "name": "stderr",
     "output_type": "stream",
     "text": [
      "01:45:41 WARNING:Missing 24 words. Will replace them with mean vector\n"
     ]
    },
    {
     "name": "stdout",
     "output_type": "stream",
     "text": [
      "Spearman correlation of scores on WS353 0.7335298197006004\n"
     ]
    },
    {
     "name": "stderr",
     "output_type": "stream",
     "text": [
      "01:45:41 WARNING:Missing 1 words. Will replace them with mean vector\n"
     ]
    },
    {
     "name": "stdout",
     "output_type": "stream",
     "text": [
      "Spearman correlation of scores on MTurk 0.672333057452692\n"
     ]
    }
   ],
   "source": [
    "# Calculate results using helper function\n",
    "for name, data in iteritems(tasks):\n",
    "    print(\"Spearman correlation of scores on {} {}\".format(name, evaluate_similarity(PDC, data.X, data.y)))"
   ]
  },
  {
   "cell_type": "code",
   "execution_count": 27,
   "metadata": {},
   "outputs": [
    {
     "name": "stderr",
     "output_type": "stream",
     "text": [
      "01:45:42 WARNING:Missing 12159 words. Will replace them with mean vector\n"
     ]
    },
    {
     "name": "stdout",
     "output_type": "stream",
     "text": [
      "Spearman correlation of scores on TR9856 0.13278805080523653\n",
      "Spearman correlation of scores on SIMLEX999 0.6505248465442232\n",
      "Spearman correlation of scores on RG65 0.9098796909954566\n"
     ]
    },
    {
     "name": "stderr",
     "output_type": "stream",
     "text": [
      "01:45:45 WARNING:Missing 210 words. Will replace them with mean vector\n"
     ]
    },
    {
     "name": "stdout",
     "output_type": "stream",
     "text": [
      "Spearman correlation of scores on RW 0.5454422117278859\n",
      "Spearman correlation of scores on MEN 0.859637745749473\n"
     ]
    },
    {
     "name": "stderr",
     "output_type": "stream",
     "text": [
      "01:45:45 WARNING:Missing 24 words. Will replace them with mean vector\n"
     ]
    },
    {
     "name": "stdout",
     "output_type": "stream",
     "text": [
      "Spearman correlation of scores on WS353 0.754611288190992\n",
      "Spearman correlation of scores on MTurk 0.7197183228296197\n"
     ]
    }
   ],
   "source": [
    "# Calculate results using helper function\n",
    "for name, data in iteritems(tasks):\n",
    "    print(\"Spearman correlation of scores on {} {}\".format(name, evaluate_similarity(conceptnet_numberbatch, data.X, data.y)))"
   ]
  },
  {
   "cell_type": "code",
   "execution_count": 28,
   "metadata": {},
   "outputs": [
    {
     "name": "stderr",
     "output_type": "stream",
     "text": [
      "01:45:46 WARNING:Missing 12091 words. Will replace them with mean vector\n"
     ]
    },
    {
     "name": "stdout",
     "output_type": "stream",
     "text": [
      "Spearman correlation of scores on TR9856 0.20709241131932626\n",
      "Spearman correlation of scores on SIMLEX999 0.4068323713010924\n",
      "Spearman correlation of scores on RG65 0.8058047705371465\n"
     ]
    },
    {
     "name": "stderr",
     "output_type": "stream",
     "text": [
      "01:45:50 WARNING:Missing 180 words. Will replace them with mean vector\n"
     ]
    },
    {
     "name": "stdout",
     "output_type": "stream",
     "text": [
      "Spearman correlation of scores on RW 0.463446734611335\n",
      "Spearman correlation of scores on MEN 0.7603351608999048\n"
     ]
    },
    {
     "name": "stderr",
     "output_type": "stream",
     "text": [
      "01:45:50 WARNING:Missing 24 words. Will replace them with mean vector\n"
     ]
    },
    {
     "name": "stdout",
     "output_type": "stream",
     "text": [
      "Spearman correlation of scores on WS353 0.7168732040109569\n"
     ]
    },
    {
     "name": "stderr",
     "output_type": "stream",
     "text": [
      "01:45:50 WARNING:Missing 1 words. Will replace them with mean vector\n"
     ]
    },
    {
     "name": "stdout",
     "output_type": "stream",
     "text": [
      "Spearman correlation of scores on MTurk 0.6576701299876498\n"
     ]
    }
   ],
   "source": [
    "# Calculate results using helper function\n",
    "for name, data in iteritems(tasks):\n",
    "    print(\"Spearman correlation of scores on {} {}\".format(name, evaluate_similarity(HDC, data.X, data.y)))"
   ]
  },
  {
   "cell_type": "code",
   "execution_count": 29,
   "metadata": {},
   "outputs": [
    {
     "name": "stderr",
     "output_type": "stream",
     "text": [
      "01:45:52 WARNING:Missing 12078 words. Will replace them with mean vector\n"
     ]
    },
    {
     "name": "stdout",
     "output_type": "stream",
     "text": [
      "Spearman correlation of scores on TR9856 0.12090252418854357\n",
      "Spearman correlation of scores on SIMLEX999 0.4193212730544379\n",
      "Spearman correlation of scores on RG65 0.7645419713298198\n"
     ]
    },
    {
     "name": "stderr",
     "output_type": "stream",
     "text": [
      "01:46:30 WARNING:Missing 27 words. Will replace them with mean vector\n"
     ]
    },
    {
     "name": "stdout",
     "output_type": "stream",
     "text": [
      "Spearman correlation of scores on RW 0.4894173710090232\n",
      "Spearman correlation of scores on MEN 0.8091866261642531\n"
     ]
    },
    {
     "name": "stderr",
     "output_type": "stream",
     "text": [
      "01:46:30 WARNING:Missing 24 words. Will replace them with mean vector\n"
     ]
    },
    {
     "name": "stdout",
     "output_type": "stream",
     "text": [
      "Spearman correlation of scores on WS353 0.6927905188325773\n",
      "Spearman correlation of scores on MTurk 0.7115549352518812\n"
     ]
    }
   ],
   "source": [
    "# Calculate results using helper function\n",
    "for name, data in iteritems(tasks):\n",
    "    print(\"Spearman correlation of scores on {} {}\".format(name, evaluate_similarity(LexVec, data.X, data.y)))"
   ]
  },
  {
   "cell_type": "code",
   "execution_count": null,
   "metadata": {},
   "outputs": [],
   "source": []
  },
  {
   "cell_type": "code",
   "execution_count": null,
   "metadata": {},
   "outputs": [],
   "source": []
  }
 ],
 "metadata": {
  "kernelspec": {
   "display_name": "Python 3",
   "language": "python",
   "name": "python3"
  },
  "language_info": {
   "codemirror_mode": {
    "name": "ipython",
    "version": 3
   },
   "file_extension": ".py",
   "mimetype": "text/x-python",
   "name": "python",
   "nbconvert_exporter": "python",
   "pygments_lexer": "ipython3",
   "version": "3.5.4"
  }
 },
 "nbformat": 4,
 "nbformat_minor": 1
}
